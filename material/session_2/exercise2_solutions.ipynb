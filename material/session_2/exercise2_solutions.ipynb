{
 "cells": [
  {
   "cell_type": "markdown",
   "metadata": {},
   "source": [
    "> **Note:** In most sessions you will be solving exercises posed in a Jupyter notebook that looks like this one. Because you are cloning a Github repository that only we can push to, you should **NEVER EDIT** any of the files you pull from Github. Instead, what you should do, is either make a new notebook and write your solutions in there, or **make a copy of this notebook and save it somewhere else** on your computer, not inside the `sds` folder that you cloned, so you can write your answers in there. If you edit the notebook you pulled from Github, those edits (possible your solutions to the exercises) may be overwritten and lost the next time you pull from Github. This is important, so don't hesitate to ask if it is unclear."
   ]
  },
  {
   "cell_type": "markdown",
   "metadata": {},
   "source": [
    "# Exercise Set 2: Breast cancer\n",
    "\n",
    "*February 14, 2020*\n",
    "\n",
    "In this Exercise Set 2 we will work with the Breast Cancer dataset."
   ]
  },
  {
   "cell_type": "markdown",
   "metadata": {},
   "source": [
    "**Load data**"
   ]
  },
  {
   "cell_type": "code",
   "execution_count": 365,
   "metadata": {
    "ExecuteTime": {
     "end_time": "2020-02-16T23:26:00.234214Z",
     "start_time": "2020-02-16T23:26:00.203052Z"
    }
   },
   "outputs": [
    {
     "data": {
      "text/html": [
       "<div>\n",
       "<style scoped>\n",
       "    .dataframe tbody tr th:only-of-type {\n",
       "        vertical-align: middle;\n",
       "    }\n",
       "\n",
       "    .dataframe tbody tr th {\n",
       "        vertical-align: top;\n",
       "    }\n",
       "\n",
       "    .dataframe thead th {\n",
       "        text-align: right;\n",
       "    }\n",
       "</style>\n",
       "<table border=\"1\" class=\"dataframe\">\n",
       "  <thead>\n",
       "    <tr style=\"text-align: right;\">\n",
       "      <th></th>\n",
       "      <th>mean radius</th>\n",
       "      <th>mean texture</th>\n",
       "      <th>mean perimeter</th>\n",
       "      <th>mean area</th>\n",
       "      <th>mean smoothness</th>\n",
       "      <th>mean compactness</th>\n",
       "      <th>mean concavity</th>\n",
       "      <th>mean concave points</th>\n",
       "      <th>mean symmetry</th>\n",
       "      <th>mean fractal dimension</th>\n",
       "      <th>...</th>\n",
       "      <th>worst texture</th>\n",
       "      <th>worst perimeter</th>\n",
       "      <th>worst area</th>\n",
       "      <th>worst smoothness</th>\n",
       "      <th>worst compactness</th>\n",
       "      <th>worst concavity</th>\n",
       "      <th>worst concave points</th>\n",
       "      <th>worst symmetry</th>\n",
       "      <th>worst fractal dimension</th>\n",
       "      <th>benign</th>\n",
       "    </tr>\n",
       "  </thead>\n",
       "  <tbody>\n",
       "    <tr>\n",
       "      <th>0</th>\n",
       "      <td>17.99</td>\n",
       "      <td>10.38</td>\n",
       "      <td>122.80</td>\n",
       "      <td>1001.0</td>\n",
       "      <td>0.11840</td>\n",
       "      <td>0.27760</td>\n",
       "      <td>0.3001</td>\n",
       "      <td>0.14710</td>\n",
       "      <td>0.2419</td>\n",
       "      <td>0.07871</td>\n",
       "      <td>...</td>\n",
       "      <td>17.33</td>\n",
       "      <td>184.60</td>\n",
       "      <td>2019.0</td>\n",
       "      <td>0.1622</td>\n",
       "      <td>0.6656</td>\n",
       "      <td>0.7119</td>\n",
       "      <td>0.2654</td>\n",
       "      <td>0.4601</td>\n",
       "      <td>0.11890</td>\n",
       "      <td>0.0</td>\n",
       "    </tr>\n",
       "    <tr>\n",
       "      <th>1</th>\n",
       "      <td>20.57</td>\n",
       "      <td>17.77</td>\n",
       "      <td>132.90</td>\n",
       "      <td>1326.0</td>\n",
       "      <td>0.08474</td>\n",
       "      <td>0.07864</td>\n",
       "      <td>0.0869</td>\n",
       "      <td>0.07017</td>\n",
       "      <td>0.1812</td>\n",
       "      <td>0.05667</td>\n",
       "      <td>...</td>\n",
       "      <td>23.41</td>\n",
       "      <td>158.80</td>\n",
       "      <td>1956.0</td>\n",
       "      <td>0.1238</td>\n",
       "      <td>0.1866</td>\n",
       "      <td>0.2416</td>\n",
       "      <td>0.1860</td>\n",
       "      <td>0.2750</td>\n",
       "      <td>0.08902</td>\n",
       "      <td>0.0</td>\n",
       "    </tr>\n",
       "    <tr>\n",
       "      <th>2</th>\n",
       "      <td>19.69</td>\n",
       "      <td>21.25</td>\n",
       "      <td>130.00</td>\n",
       "      <td>1203.0</td>\n",
       "      <td>0.10960</td>\n",
       "      <td>0.15990</td>\n",
       "      <td>0.1974</td>\n",
       "      <td>0.12790</td>\n",
       "      <td>0.2069</td>\n",
       "      <td>0.05999</td>\n",
       "      <td>...</td>\n",
       "      <td>25.53</td>\n",
       "      <td>152.50</td>\n",
       "      <td>1709.0</td>\n",
       "      <td>0.1444</td>\n",
       "      <td>0.4245</td>\n",
       "      <td>0.4504</td>\n",
       "      <td>0.2430</td>\n",
       "      <td>0.3613</td>\n",
       "      <td>0.08758</td>\n",
       "      <td>0.0</td>\n",
       "    </tr>\n",
       "    <tr>\n",
       "      <th>3</th>\n",
       "      <td>11.42</td>\n",
       "      <td>20.38</td>\n",
       "      <td>77.58</td>\n",
       "      <td>386.1</td>\n",
       "      <td>0.14250</td>\n",
       "      <td>0.28390</td>\n",
       "      <td>0.2414</td>\n",
       "      <td>0.10520</td>\n",
       "      <td>0.2597</td>\n",
       "      <td>0.09744</td>\n",
       "      <td>...</td>\n",
       "      <td>26.50</td>\n",
       "      <td>98.87</td>\n",
       "      <td>567.7</td>\n",
       "      <td>0.2098</td>\n",
       "      <td>0.8663</td>\n",
       "      <td>0.6869</td>\n",
       "      <td>0.2575</td>\n",
       "      <td>0.6638</td>\n",
       "      <td>0.17300</td>\n",
       "      <td>0.0</td>\n",
       "    </tr>\n",
       "    <tr>\n",
       "      <th>4</th>\n",
       "      <td>20.29</td>\n",
       "      <td>14.34</td>\n",
       "      <td>135.10</td>\n",
       "      <td>1297.0</td>\n",
       "      <td>0.10030</td>\n",
       "      <td>0.13280</td>\n",
       "      <td>0.1980</td>\n",
       "      <td>0.10430</td>\n",
       "      <td>0.1809</td>\n",
       "      <td>0.05883</td>\n",
       "      <td>...</td>\n",
       "      <td>16.67</td>\n",
       "      <td>152.20</td>\n",
       "      <td>1575.0</td>\n",
       "      <td>0.1374</td>\n",
       "      <td>0.2050</td>\n",
       "      <td>0.4000</td>\n",
       "      <td>0.1625</td>\n",
       "      <td>0.2364</td>\n",
       "      <td>0.07678</td>\n",
       "      <td>0.0</td>\n",
       "    </tr>\n",
       "  </tbody>\n",
       "</table>\n",
       "<p>5 rows × 31 columns</p>\n",
       "</div>"
      ],
      "text/plain": [
       "   mean radius  mean texture  mean perimeter  mean area  mean smoothness  \\\n",
       "0        17.99         10.38          122.80     1001.0          0.11840   \n",
       "1        20.57         17.77          132.90     1326.0          0.08474   \n",
       "2        19.69         21.25          130.00     1203.0          0.10960   \n",
       "3        11.42         20.38           77.58      386.1          0.14250   \n",
       "4        20.29         14.34          135.10     1297.0          0.10030   \n",
       "\n",
       "   mean compactness  mean concavity  mean concave points  mean symmetry  \\\n",
       "0           0.27760          0.3001              0.14710         0.2419   \n",
       "1           0.07864          0.0869              0.07017         0.1812   \n",
       "2           0.15990          0.1974              0.12790         0.2069   \n",
       "3           0.28390          0.2414              0.10520         0.2597   \n",
       "4           0.13280          0.1980              0.10430         0.1809   \n",
       "\n",
       "   mean fractal dimension   ...    worst texture  worst perimeter  worst area  \\\n",
       "0                 0.07871   ...            17.33           184.60      2019.0   \n",
       "1                 0.05667   ...            23.41           158.80      1956.0   \n",
       "2                 0.05999   ...            25.53           152.50      1709.0   \n",
       "3                 0.09744   ...            26.50            98.87       567.7   \n",
       "4                 0.05883   ...            16.67           152.20      1575.0   \n",
       "\n",
       "   worst smoothness  worst compactness  worst concavity  worst concave points  \\\n",
       "0            0.1622             0.6656           0.7119                0.2654   \n",
       "1            0.1238             0.1866           0.2416                0.1860   \n",
       "2            0.1444             0.4245           0.4504                0.2430   \n",
       "3            0.2098             0.8663           0.6869                0.2575   \n",
       "4            0.1374             0.2050           0.4000                0.1625   \n",
       "\n",
       "   worst symmetry  worst fractal dimension  benign  \n",
       "0          0.4601                  0.11890     0.0  \n",
       "1          0.2750                  0.08902     0.0  \n",
       "2          0.3613                  0.08758     0.0  \n",
       "3          0.6638                  0.17300     0.0  \n",
       "4          0.2364                  0.07678     0.0  \n",
       "\n",
       "[5 rows x 31 columns]"
      ]
     },
     "execution_count": 365,
     "metadata": {},
     "output_type": "execute_result"
    }
   ],
   "source": [
    "import pandas as pd\n",
    "from sklearn.datasets import load_breast_cancer\n",
    "\n",
    "raw_data = load_breast_cancer()\n",
    "data_features = pd.DataFrame(\n",
    "    np.hstack([raw_data['data'], raw_data['target'].reshape(-1, 1)]),\n",
    "    columns=raw_data['feature_names'].tolist() + ['benign']\n",
    ")\n",
    "data_features.head()"
   ]
  },
  {
   "cell_type": "markdown",
   "metadata": {},
   "source": [
    "**Extract X and y**"
   ]
  },
  {
   "cell_type": "code",
   "execution_count": 366,
   "metadata": {
    "ExecuteTime": {
     "end_time": "2020-02-16T23:26:04.066549Z",
     "start_time": "2020-02-16T23:26:04.063714Z"
    }
   },
   "outputs": [],
   "source": [
    "X = raw_data['data']\n",
    "y = raw_data['target']"
   ]
  },
  {
   "cell_type": "markdown",
   "metadata": {},
   "source": [
    "<br>\n",
    "<br>\n",
    "\n",
    "## Random Forest"
   ]
  },
  {
   "cell_type": "markdown",
   "metadata": {},
   "source": [
    "> **Ex. 2.1.1**: The performance of a random forest classifier is highly sensitive to hyper parameters. Therefore, you should be intimately familiar with what the most important ones do. For each point below, explain what the hyper parameter pertaining to `sklearn.ensemble.RandomForestClassifier` controls, and how setting it either too low or too high (or True/False) might hurt model performance:\n",
    "1. `n_estimators`\n",
    "2. `max_depth`\n",
    "3. `max_features`\n",
    "4. `bootstrap`"
   ]
  },
  {
   "cell_type": "code",
   "execution_count": null,
   "metadata": {},
   "outputs": [],
   "source": [
    "# This question will be in assignment 1"
   ]
  },
  {
   "cell_type": "markdown",
   "metadata": {},
   "source": [
    "> **Ex. 2.1.2**: For `n_estimators > 1`how should one set the hyper-parameters `max_features` and `bootstrap` so that all the trees in the ensemble end up identical?"
   ]
  },
  {
   "cell_type": "code",
   "execution_count": null,
   "metadata": {},
   "outputs": [],
   "source": [
    "# This question will be in assignment 1"
   ]
  },
  {
   "cell_type": "markdown",
   "metadata": {},
   "source": [
    "> **Ex. 2.1.3**: Plot training and test accuracy of the random forest classifier as a function of `n_estimators`. Also indicate with a horizontal line (e.g. use `plt.axhline`) where the baseline accuracy lies (always guessing for majority class). Comparing and training and test performance, can you say something abotu how your model performs? And how does it perform relative to baseline? Report your maximum testing accuracy.\n",
    ">\n",
    "> *Hints: Use `StratifiedShuffleSplit` with the `cross_validate` method and give the latter the argument `return_train_score=True` to assess both training and test scores during cross validation. Also, you could let `n_estimators` vary on a logarithmic scale (like `np.logspace(np.log10(5), np.log10(500), 20)`) and log-scale the x-axis in your plot (`plt.xscale('log')`).*"
   ]
  },
  {
   "cell_type": "code",
   "execution_count": null,
   "metadata": {},
   "outputs": [],
   "source": [
    "# This question will be in assignment 1"
   ]
  },
  {
   "cell_type": "markdown",
   "metadata": {},
   "source": [
    "## Boosting"
   ]
  },
  {
   "cell_type": "markdown",
   "metadata": {},
   "source": [
    "> **Ex. 2.2.1**: Repeat Ex. 2.1.3, but using AdaBoost. Do you notice any performance difference?"
   ]
  },
  {
   "cell_type": "markdown",
   "metadata": {},
   "source": [
    "**ANS**"
   ]
  },
  {
   "cell_type": "code",
   "execution_count": 277,
   "metadata": {
    "ExecuteTime": {
     "end_time": "2020-02-16T21:57:46.326706Z",
     "start_time": "2020-02-16T21:57:46.321667Z"
    }
   },
   "outputs": [],
   "source": [
    "from sklearn.ensemble import AdaBoostClassifier\n",
    "from sklearn.model_selection import KFold"
   ]
  },
  {
   "cell_type": "code",
   "execution_count": 280,
   "metadata": {
    "ExecuteTime": {
     "end_time": "2020-02-16T22:07:04.468256Z",
     "start_time": "2020-02-16T22:02:57.647158Z"
    }
   },
   "outputs": [
    {
     "name": "stderr",
     "output_type": "stream",
     "text": [
      "100%|██████████| 20/20 [04:06<00:00, 12.34s/it]\n"
     ]
    }
   ],
   "source": [
    "train_acc, test_acc = [], []\n",
    "param_range = np.logspace(np.log10(50), np.log10(500), 20)\n",
    "for param in tqdm(param_range):\n",
    "\n",
    "    model = AdaBoostClassifier(n_estimators=int(param))\n",
    "    #cv = ShuffleSplit(n_splits=20, test_size=.05, random_state=3)\n",
    "    cv = KFold(n_splits=20)\n",
    "    \n",
    "    # accuracies\n",
    "    scores = cross_validate(model, X, y, cv=cv, return_train_score=True)\n",
    "    train_acc.append(np.mean(scores['train_score']))\n",
    "    test_acc.append(np.mean(scores['test_score']))"
   ]
  },
  {
   "cell_type": "code",
   "execution_count": 281,
   "metadata": {
    "ExecuteTime": {
     "end_time": "2020-02-16T22:07:10.029207Z",
     "start_time": "2020-02-16T22:07:09.783038Z"
    }
   },
   "outputs": [
    {
     "data": {
      "image/png": "[encoded data removed]",
      "text/plain": [
       "<Figure size 720x432 with 1 Axes>"
      ]
     },
     "metadata": {
      "needs_background": "light"
     },
     "output_type": "display_data"
    }
   ],
   "source": [
    "plt.figure(figsize=(10, 6))\n",
    "plt.plot(param_range, train_acc, label=\"training accuracy\")\n",
    "plt.plot(param_range, test_acc, label=\"testing accuracy\")\n",
    "plt.axhline(sum(y) / len(y), ls=\"--\", label=\"baseline\")\n",
    "#plt.ylim(0.81, 0.9)\n",
    "plt.xlabel(\"`param`\")\n",
    "plt.legend()\n",
    "plt.show()"
   ]
  },
  {
   "cell_type": "code",
   "execution_count": 282,
   "metadata": {
    "ExecuteTime": {
     "end_time": "2020-02-16T22:08:18.021129Z",
     "start_time": "2020-02-16T22:08:18.016859Z"
    }
   },
   "outputs": [
    {
     "data": {
      "text/plain": [
       "0.9754926108374387"
      ]
     },
     "execution_count": 282,
     "metadata": {},
     "output_type": "execute_result"
    }
   ],
   "source": [
    "max(test_acc)"
   ]
  },
  {
   "cell_type": "markdown",
   "metadata": {},
   "source": [
    "AdaBoost is 1.5 percent points more accurate!"
   ]
  },
  {
   "cell_type": "markdown",
   "metadata": {},
   "source": [
    "## Gradient boosting"
   ]
  },
  {
   "cell_type": "markdown",
   "metadata": {},
   "source": [
    "> **Ex. 2.2.1**: Repeat Ex. 2.1.3, but using `sklearn.ensemble.GradientBoostingClassifier`. Do you notice any performance difference?"
   ]
  },
  {
   "cell_type": "code",
   "execution_count": 416,
   "metadata": {
    "ExecuteTime": {
     "end_time": "2020-02-17T08:05:57.081880Z",
     "start_time": "2020-02-17T08:05:57.078717Z"
    }
   },
   "outputs": [],
   "source": [
    "from sklearn.ensemble import GradientBoostingClassifier"
   ]
  },
  {
   "cell_type": "code",
   "execution_count": 429,
   "metadata": {
    "ExecuteTime": {
     "end_time": "2020-02-17T08:18:10.449757Z",
     "start_time": "2020-02-17T08:16:18.798314Z"
    }
   },
   "outputs": [
    {
     "name": "stderr",
     "output_type": "stream",
     "text": [
      "100%|██████████| 20/20 [01:51<00:00,  5.58s/it]\n"
     ]
    }
   ],
   "source": [
    "train_acc, test_acc = [], []\n",
    "param_range = np.logspace(np.log10(50), np.log10(1000), 20)\n",
    "for param in tqdm(param_range):\n",
    "\n",
    "    model = GradientBoostingClassifier(n_estimators=int(param), max_depth=1, subsample=0.5)\n",
    "    #cv = ShuffleSplit(n_splits=20, test_size=.05, random_state=3)\n",
    "    cv = KFold(n_splits=20)\n",
    "    \n",
    "    # accuracies\n",
    "    scores = cross_validate(model, X, y, cv=cv, return_train_score=True)\n",
    "    train_acc.append(np.mean(scores['train_score']))\n",
    "    test_acc.append(np.mean(scores['test_score']))"
   ]
  },
  {
   "cell_type": "code",
   "execution_count": 430,
   "metadata": {
    "ExecuteTime": {
     "end_time": "2020-02-17T08:18:13.435832Z",
     "start_time": "2020-02-17T08:18:13.164378Z"
    }
   },
   "outputs": [
    {
     "data": {
      "image/png": "[encoded data removed]",
      "text/plain": [
       "<Figure size 720x432 with 1 Axes>"
      ]
     },
     "metadata": {
      "needs_background": "light"
     },
     "output_type": "display_data"
    }
   ],
   "source": [
    "plt.figure(figsize=(10, 6))\n",
    "plt.plot(param_range, train_acc, label=\"training accuracy\")\n",
    "plt.plot(param_range, test_acc, label=\"testing accuracy\")\n",
    "plt.axhline(sum(y) / len(y), ls=\"--\", label=\"baseline\")\n",
    "#plt.ylim(0.81, 0.9)\n",
    "plt.xlabel(\"`param`\")\n",
    "plt.legend()\n",
    "plt.show()"
   ]
  },
  {
   "cell_type": "code",
   "execution_count": 431,
   "metadata": {
    "ExecuteTime": {
     "end_time": "2020-02-17T08:18:16.456701Z",
     "start_time": "2020-02-17T08:18:16.450821Z"
    }
   },
   "outputs": [
    {
     "data": {
      "text/plain": [
       "0.9807881773399016"
      ]
     },
     "execution_count": 431,
     "metadata": {},
     "output_type": "execute_result"
    }
   ],
   "source": [
    "max(test_acc)"
   ]
  },
  {
   "cell_type": "markdown",
   "metadata": {},
   "source": [
    "I can up the performance slightly."
   ]
  },
  {
   "cell_type": "markdown",
   "metadata": {},
   "source": [
    "## Decision tree mechanism"
   ]
  },
  {
   "cell_type": "markdown",
   "metadata": {},
   "source": [
    "Here you will be manually implementing the decision tree mechanism across a number of connected exercises."
   ]
  },
  {
   "cell_type": "markdown",
   "metadata": {},
   "source": [
    ">**Ex. 2.3.1**: Find the best feature to split on. There are many ways to do this, and we will be very practical about this and use the Pearson correlatio coefficient between a feature and the outcome, as an indicator of goodness.\n",
    "Therefore, write a function that takes your input data `data_features` as input and returns the name of the feature that has the highest absolute (positive or negative) correlation with the outcome.\n",
    "Use this function on your data to find the best initial feature to split on.\n",
    ">\n",
    "> *Hint: You can use `scipy.stats.pearsonr` to compute the correlation coefficient. E.g. to compute the absolute correlation coefficient between two variables `a` and `b`, I would write `abs(pearsonr(a, b)[0])`.*"
   ]
  },
  {
   "cell_type": "markdown",
   "metadata": {},
   "source": [
    "**ANS**"
   ]
  },
  {
   "cell_type": "code",
   "execution_count": 380,
   "metadata": {
    "ExecuteTime": {
     "end_time": "2020-02-17T07:19:04.301222Z",
     "start_time": "2020-02-17T07:19:04.296878Z"
    }
   },
   "outputs": [],
   "source": [
    "from scipy.stats import spearmanr\n",
    "\n",
    "def best_feature(data):\n",
    "    correlations = []\n",
    "    for feature in data_features.columns[:-1]:\n",
    "        correlations.append(\n",
    "            abs(spearmanr(data[feature], data['benign'])[0])\n",
    "        )\n",
    "    top_i = np.argmax(correlations)\n",
    "    return data_features.columns[top_i]"
   ]
  },
  {
   "cell_type": "code",
   "execution_count": 381,
   "metadata": {
    "ExecuteTime": {
     "end_time": "2020-02-17T07:19:05.027595Z",
     "start_time": "2020-02-17T07:19:04.991580Z"
    }
   },
   "outputs": [
    {
     "data": {
      "text/plain": [
       "'worst perimeter'"
      ]
     },
     "execution_count": 381,
     "metadata": {},
     "output_type": "execute_result"
    }
   ],
   "source": [
    "best_feature(data_features)"
   ]
  },
  {
   "cell_type": "markdown",
   "metadata": {},
   "source": [
    ">**Ex. 2.3.2**: Read about [Shannon entropy](https://en.wikipedia.org/wiki/Entropy_(information_theory)). Write a function that computes the Shannon-entropy of a probability vector. Compute the Shannon entropy of `p=[0.4, 0.6]`."
   ]
  },
  {
   "cell_type": "markdown",
   "metadata": {},
   "source": [
    "**ANS**"
   ]
  },
  {
   "cell_type": "code",
   "execution_count": 289,
   "metadata": {
    "ExecuteTime": {
     "end_time": "2020-02-16T22:14:47.857897Z",
     "start_time": "2020-02-16T22:14:47.852393Z"
    },
    "scrolled": true
   },
   "outputs": [
    {
     "data": {
      "text/plain": [
       "0.9709505944546686"
      ]
     },
     "execution_count": 289,
     "metadata": {},
     "output_type": "execute_result"
    }
   ],
   "source": [
    "def shannon_entropy(p):\n",
    "    return - sum([p_ * np.log2(p_) for p_ in p])\n",
    "\n",
    "shannon_entropy([0.4, 0.6])"
   ]
  },
  {
   "cell_type": "markdown",
   "metadata": {},
   "source": [
    ">**Ex. 2.3.3**: Compute split entropy. \n",
    "1. Write a function `split_data_on(data, feature, thr)` that takes as input your data, initially `data_features`, a threshold, `thr`, and a feature, `feature`, and then splits the data into two subsets (also `pandas.Dataframe`s), `data0` and `data1`, where samples in `data0` have `data[feature] > thr` and samples in `data1` have `data[feature] > thr`. Use it to split `data_features` on the 'worst perimeter' feature at 105.9, to create two new variables `data0` and `data1` and print their number of rows.\n",
    "1. Write another function `outcome_entropy(data)` that computes the entropy of outcomes ('benign' column), given a subset. Print the entropies of `data0` and `data1`.\n",
    "2. Write a final function `split_entropy(data0, data1)` that uses the previous function to compute the split entropy (i.e. weighted average of both resulting subsets). Compute the split entropy."
   ]
  },
  {
   "cell_type": "markdown",
   "metadata": {},
   "source": [
    "**ANS**"
   ]
  },
  {
   "cell_type": "markdown",
   "metadata": {},
   "source": [
    "**1**"
   ]
  },
  {
   "cell_type": "code",
   "execution_count": 387,
   "metadata": {
    "ExecuteTime": {
     "end_time": "2020-02-17T07:21:44.769624Z",
     "start_time": "2020-02-17T07:21:44.763814Z"
    }
   },
   "outputs": [
    {
     "name": "stdout",
     "output_type": "stream",
     "text": [
      "345 224\n"
     ]
    }
   ],
   "source": [
    "def split_data_on(data, feature, thr):\n",
    "    \"\"\"Function that splits the data on the given feature and\n",
    "    returns two new datasets.\n",
    "    \"\"\"\n",
    "    mask = data[feature] > thr\n",
    "    return data[~mask], data[ mask]\n",
    "\n",
    "data0, data1 = split_data_on(data_features, 'worst perimeter', 105.9)\n",
    "print(data0.shape[0], data1.shape[0])"
   ]
  },
  {
   "cell_type": "markdown",
   "metadata": {},
   "source": [
    "**2**"
   ]
  },
  {
   "cell_type": "code",
   "execution_count": 388,
   "metadata": {
    "ExecuteTime": {
     "end_time": "2020-02-17T07:21:45.342244Z",
     "start_time": "2020-02-17T07:21:45.337413Z"
    }
   },
   "outputs": [
    {
     "name": "stdout",
     "output_type": "stream",
     "text": [
      "0.2833107377061481\n",
      "0.5559671540224538\n"
     ]
    }
   ],
   "source": [
    "from collections import Counter\n",
    "\n",
    "def outcome_entropy(datai):\n",
    "    def _probability_dist_of_labels(list_of_labels):\n",
    "        label_counts = Counter(list_of_labels)\n",
    "        return [v/sum(label_counts.values()) for k, v in label_counts.items()]\n",
    "    return shannon_entropy(_probability_dist_of_labels(datai['benign']))\n",
    "\n",
    "print(outcome_entropy(data0))\n",
    "print(outcome_entropy(data1))"
   ]
  },
  {
   "cell_type": "markdown",
   "metadata": {},
   "source": [
    "**3**"
   ]
  },
  {
   "cell_type": "code",
   "execution_count": 389,
   "metadata": {
    "ExecuteTime": {
     "end_time": "2020-02-17T07:21:45.887670Z",
     "start_time": "2020-02-17T07:21:45.881422Z"
    }
   },
   "outputs": [
    {
     "data": {
      "text/plain": [
       "0.39064823727530884"
      ]
     },
     "execution_count": 389,
     "metadata": {},
     "output_type": "execute_result"
    }
   ],
   "source": [
    "def split_entropy(data0, data1):\n",
    "    # Compute entropies\n",
    "    ent0 = outcome_entropy(data0)\n",
    "    ent1 = outcome_entropy(data1)\n",
    "\n",
    "    # Compute weights\n",
    "    w0 = data0.shape[0] / (data0.shape[0] + data1.shape[0])\n",
    "    w1 = data1.shape[0] / (data0.shape[0] + data1.shape[0])\n",
    "\n",
    "    # Return result\n",
    "    return ent0 * w0 + ent1 * w1\n",
    "\n",
    "split_entropy(data0, data1)"
   ]
  },
  {
   "cell_type": "markdown",
   "metadata": {},
   "source": [
    ">**Ex. 2.3.4**: Find the optimal split threshold. Write a function called `optimal_threshold(data, feature)`\n",
    "that takes as input your data and a feature, and loops over all possible splits for a feature such as to find and return the minimum split entropy and associated threshold. Execute it for 'worst perimeter' does this match up with your results from 2.3.2?"
   ]
  },
  {
   "cell_type": "code",
   "execution_count": 390,
   "metadata": {
    "ExecuteTime": {
     "end_time": "2020-02-17T07:21:47.028899Z",
     "start_time": "2020-02-17T07:21:46.420655Z"
    }
   },
   "outputs": [
    {
     "data": {
      "text/plain": [
       "(105.9, 0.39064823727530884)"
      ]
     },
     "execution_count": 390,
     "metadata": {},
     "output_type": "execute_result"
    }
   ],
   "source": [
    "def optimal_threshold(data, feature):\n",
    "    return min(\n",
    "        [\n",
    "            (\n",
    "                thr,\n",
    "                split_entropy(*split_data_on(data, feature, thr))\n",
    "            )\n",
    "            for thr in data[feature]\n",
    "        ],\n",
    "        key=lambda kv: kv[1]\n",
    "    )\n",
    "\n",
    "optimal_threshold(data_features, 'worst perimeter')"
   ]
  },
  {
   "cell_type": "markdown",
   "metadata": {},
   "source": [
    ">**Ex. 2.3.5**: Now you have (1) a function that finds the best feature to split on, given dataframe of data, and (2) another function that computes the threshold at which to split it into two new subsets. Implement the decision tree mechanism, and print the maximum entropy path.\n",
    ">1. Implement the following pseudocode and print the output:<br><br>\n",
    ">Step 0. Initially, set `data = data_features`.<br>\n",
    ">Step 1. Find the feature that gives the lowest split entropy for `data` (use `best_feature`). Print the name of the feature.<br>\n",
    ">Step 2. Split `data` *on the optimal threshold* of that feature, to produce `data0` and `data1` (use `optimal_threshold` to find the optimal threshold and then use `split_data_on` to actually split it). Print the entropy of each, as well as their weighted avg. entropy (i.e. the split entropy).<br>\n",
    ">Step 3. Overwrite the `data` variable with either `data0` or `data1`, depending on which has the highest entropy.<br>\n",
    ">Step 4. Stop if there are less than 5 datapoints in `data`. Otherwise start over from 1.<br><br>\n",
    ">My output looks [like this](https://github.com/abjer/sds_eml_2020/blob/master/material/session_2/solution_2.3.5.1.png) for the first five splits.<br><br>\n",
    ">\n",
    ">2. Comment on decision path your code takes: How many splits are there? Does average entropy always decrease? Anything else worth commenting on?\n",
    ">3. Train a `sklearn.tree.DecisionTreeClassifier` classifier on the dataset. Initiate the classifier with `criterion='entropy'`. What are the most important features of this classifier? How does this line up with the order of splits you just printed (a comment is fine)?"
   ]
  },
  {
   "cell_type": "markdown",
   "metadata": {},
   "source": [
    "**ANS**"
   ]
  },
  {
   "cell_type": "markdown",
   "metadata": {},
   "source": [
    "**1**"
   ]
  },
  {
   "cell_type": "code",
   "execution_count": 415,
   "metadata": {
    "ExecuteTime": {
     "end_time": "2020-02-17T07:53:25.799562Z",
     "start_time": "2020-02-17T07:53:24.820349Z"
    }
   },
   "outputs": [
    {
     "name": "stdout",
     "output_type": "stream",
     "text": [
      "Split 0: worst perimeter\n",
      "------------------------\n",
      "    data0:\n",
      "        size:    345\n",
      "        entropy: 0.2833107377061481\n",
      "    data1:\n",
      "        size:    224\n",
      "        entropy: 0.5559671540224538\n",
      "    --> average entropy: 0.39064823727530884\n",
      "\n",
      "Split 1: mean concave points\n",
      "----------------------------\n",
      "    data0:\n",
      "        size:    34\n",
      "        entropy: 0.9596868937742169\n",
      "    data1:\n",
      "        size:    190\n",
      "        entropy: 0.25186284771956513\n",
      "    --> average entropy: 0.35930042613857477\n",
      "\n",
      "Split 2: worst texture\n",
      "----------------------\n",
      "    data0:\n",
      "        size:    16\n",
      "        entropy: 0.3372900666170139\n",
      "    data1:\n",
      "        size:    18\n",
      "        entropy: 0.9182958340544896\n",
      "    --> average entropy: 0.6448813552603834\n",
      "\n",
      "Split 3: concavity error\n",
      "------------------------\n",
      "    data0:\n",
      "        size:    14\n",
      "        entropy: 0.5916727785823275\n",
      "    data1:\n",
      "        size:    4\n",
      "        entropy: -0.0\n",
      "    --> average entropy: 0.4601899388973658\n",
      "\n",
      "Split 4: concave points error\n",
      "-----------------------------\n",
      "    data0:\n",
      "        size:    12\n",
      "        entropy: -0.0\n",
      "    data1:\n",
      "        size:    2\n",
      "        entropy: -0.0\n",
      "    --> average entropy: -0.0\n",
      "\n"
     ]
    }
   ],
   "source": [
    "# step 0: Make new variable `data`\n",
    "data = data_features.copy() \n",
    "\n",
    "i = 0\n",
    "while True:\n",
    "    \n",
    "    # step 4\n",
    "    if len(data) < 5:\n",
    "        break\n",
    "        \n",
    "    # step 1\n",
    "    split_feature = best_feature(data)\n",
    "    \n",
    "    # step 2a\n",
    "    thr, ent = optimal_threshold(data, split_feature)\n",
    "    \n",
    "    # step 2b\n",
    "    data0, data1 = split_data_on(data, split_feature, thr)\n",
    "\n",
    "    # step 3\n",
    "    ent0 = outcome_entropy(data0)\n",
    "    ent1 = outcome_entropy(data1)\n",
    "    \n",
    "    # Print output\n",
    "    print(f\"Split {i}: {split_feature}\")\n",
    "    print(\"-\" * len(f\"Split {i}: {split_feature}\"))\n",
    "    print(\"    data0:\")\n",
    "    print(f\"        size:    {len(data0)}\")\n",
    "    print(f\"        entropy: {ent0}\")\n",
    "    print(\"    data1:\")\n",
    "    print(f\"        size:    {len(data1)}\")\n",
    "    print(f\"        entropy: {ent1}\")\n",
    "    print(f\"    --> average entropy: {ent}\\n\")\n",
    "    \n",
    "    # step 3 (continued)\n",
    "    if ent0 > ent1:\n",
    "        data = data0\n",
    "    else:\n",
    "        data = data1\n",
    "    \n",
    "    i += 1"
   ]
  },
  {
   "cell_type": "markdown",
   "metadata": {},
   "source": [
    "**Comment:** It tends to shave off a high-entropy chunk and a small-entropy chunk. If the high-entropy chunk were always bigger than\n",
    "the small entropy chunk, then we would likely see split entropy decrease monotously, but already at split 1 we see\n",
    "that the small chunk has the highest entropy, and as such we continue splitting on that. Because this happens\n",
    "we end up having to split a very small chunk of data, and potentially, this is not easily split to the average split\n",
    "entropy rises again."
   ]
  },
  {
   "cell_type": "markdown",
   "metadata": {},
   "source": [
    "**3**"
   ]
  },
  {
   "cell_type": "code",
   "execution_count": 399,
   "metadata": {
    "ExecuteTime": {
     "end_time": "2020-02-17T07:24:49.891193Z",
     "start_time": "2020-02-17T07:24:49.873746Z"
    }
   },
   "outputs": [
    {
     "data": {
      "text/plain": [
       "[('worst perimeter', 0.6858889407411874),\n",
       " ('worst concave points', 0.1007829871346577),\n",
       " ('worst texture', 0.05690144222889103),\n",
       " ('worst smoothness', 0.04462567019858399),\n",
       " ('area error', 0.01759705469311716),\n",
       " ('worst symmetry', 0.017287741269216263),\n",
       " ('smoothness error', 0.01397028994778079),\n",
       " ('mean radius', 0.013472884788102825),\n",
       " ('worst area', 0.012512713022021418),\n",
       " ('mean smoothness', 0.011973493890974152)]"
      ]
     },
     "execution_count": 399,
     "metadata": {},
     "output_type": "execute_result"
    }
   ],
   "source": [
    "from sklearn.tree import DecisionTreeClassifier\n",
    "\n",
    "# train model\n",
    "model = DecisionTreeClassifier(criterion='entropy')\n",
    "model.fit(data_features.drop(\"benign\", axis=1), data_features.benign)\n",
    "\n",
    "# print feature importances\n",
    "sorted(zip(data_features.columns[:-1], model.feature_importances_), key=lambda kv: kv[1], reverse=True)[:10]"
   ]
  },
  {
   "cell_type": "markdown",
   "metadata": {},
   "source": [
    "**Comment:** The decision tree heavily overweights the importance of the first feature it splits on, but we see it\n",
    "chooses the same one as we do. For the remainder, there are differences, of course because we only split on the most\n",
    "entropous subset."
   ]
  },
  {
   "cell_type": "markdown",
   "metadata": {},
   "source": [
    ">**Challenge!**: Finish the implementation and write a piece of code that makes all splits at each level, level-for-level for 4 levels.\n",
    "You can store the tree as a nested dictionary with a structure like:\n",
    ">\n",
    ">        mytree = {\n",
    ">            'majority': 1,\n",
    ">            'feature': 'worst perimeter',\n",
    ">            'threshold': 105.9,\n",
    ">            'leafs': {\n",
    ">                {\n",
    ">                    'less than or equal to': {\n",
    ">                        'majority': 1,\n",
    ">                        'feature': 'mean concave points',\n",
    ">                        'threshold': 0.05102,\n",
    ">                        'leafs': {...}\n",
    ">                    },\n",
    ">                    'greater than': {\n",
    ">                        'majority': 0,\n",
    ">                        'feature': 'mean concave points',\n",
    ">                        'threshold': 0.04835,\n",
    ">                        'leafs': {...}\n",
    ">                    }\n",
    ">                }\n",
    ">            }\n",
    ">        }\n",
    ">\n",
    "> ... which will allow you to write another bit of code that takes an arbitrary data point and produces a prediction.\n",
    ">\n",
    "> *Note: Implementing and fitting a classifier manually is **no small accomplishment**! If you manage, you can easily add it to your Github\n",
    "portfolio and brag about it in a Medium blog post (if written well will probably get picked up by 'Towards\n",
    "Data Science' or similar), on LinkedIn or Twitter. To quote Edison: \"Opportunity is missed by most people because it is dressed in overalls and looks like work.\"*"
   ]
  }
 ],
 "metadata": {
  "kernelspec": {
   "display_name": "Python 3",
   "language": "python",
   "name": "python3"
  },
  "language_info": {
   "codemirror_mode": {
    "name": "ipython",
    "version": 3
   },
   "file_extension": ".py",
   "mimetype": "text/x-python",
   "name": "python",
   "nbconvert_exporter": "python",
   "pygments_lexer": "ipython3",
   "version": "3.7.4"
  },
  "toc": {
   "base_numbering": 1,
   "nav_menu": {},
   "number_sections": true,
   "sideBar": true,
   "skip_h1_title": false,
   "title_cell": "Table of Contents",
   "title_sidebar": "Contents",
   "toc_cell": false,
   "toc_position": {},
   "toc_section_display": true,
   "toc_window_display": false
  },
  "varInspector": {
   "cols": {
    "lenName": 16,
    "lenType": 16,
    "lenVar": 40
   },
   "kernels_config": {
    "python": {
     "delete_cmd_postfix": "",
     "delete_cmd_prefix": "del ",
     "library": "var_list.py",
     "varRefreshCmd": "print(var_dic_list())"
    },
    "r": {
     "delete_cmd_postfix": ") ",
     "delete_cmd_prefix": "rm(",
     "library": "var_list.r",
     "varRefreshCmd": "cat(var_dic_list()) "
    }
   },
   "types_to_exclude": [
    "module",
    "function",
    "builtin_function_or_method",
    "instance",
    "_Feature"
   ],
   "window_display": false
  }
 },
 "nbformat": 4,
 "nbformat_minor": 4
}