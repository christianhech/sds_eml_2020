{
 "cells": [
  {
   "cell_type": "markdown",
   "metadata": {},
   "source": [
    "> **Note:** In most sessions you will be solving exercises posed in a Jupyter notebook that looks like this one. Because you are cloning a Github repository that only we can push to, you should **NEVER EDIT** any of the files you pull from Github. Instead, what you should do, is either make a new notebook and write your solutions in there, or **make a copy of this notebook and save it somewhere else** on your computer, not inside the `sds` folder that you cloned, so you can write your answers in there. If you edit the notebook you pulled from Github, those edits (possible your solutions to the exercises) may be overwritten and lost the next time you pull from Github. This is important, so don't hesitate to ask if it is unclear."
   ]
  },
  {
   "cell_type": "code",
   "execution_count": 81,
   "metadata": {},
   "outputs": [],
   "source": [
    "# Generator\n",
    "\n",
    "#def pascal(lst):\n",
    "#  for i in lst:\n",
    "#    if len(i) == 1:\n",
    "#      yield i[0]\n",
    "#    else:\n",
    "#      yield sum(i)\n",
    "\n",
    "#lst1 = [1]\n",
    "\n",
    "#pascal(lst1)\n",
    "\n",
    "\n",
    "def my_generator():\n",
    "    n = 1\n",
    "    yield n #gives any value that \n",
    "    \n",
    "    while True: #as it is always true\n",
    "        n = n+1\n",
    "        yield n\n",
    "\n",
    "def my_pascal():\n",
    "    row = [1]\n",
    "    yield row #gives any value that \n",
    "    \n",
    "    while True: #as it is always true\n",
    "        row = [0] + row + [0]\n",
    "        row = [i+j for i,j in zip(row[:-1], row[1:])]\n",
    "        yield row\n",
    "\n"
   ]
  },
  {
   "cell_type": "code",
   "execution_count": 82,
   "metadata": {},
   "outputs": [],
   "source": [
    "g= my_generator()\n",
    "p = my_pascal()\n"
   ]
  },
  {
   "cell_type": "code",
   "execution_count": 83,
   "metadata": {},
   "outputs": [
    {
     "data": {
      "text/plain": [
       "[1]"
      ]
     },
     "execution_count": 83,
     "metadata": {},
     "output_type": "execute_result"
    }
   ],
   "source": [
    "#next(g) # as soon as it has been run, then the momory is no more (try run it multible times)\n",
    "\n",
    "# This one can count much larger numbers compared to the list, as the list needs to store the memory\n",
    "\n",
    "next(p)\n"
   ]
  },
  {
   "cell_type": "markdown",
   "metadata": {},
   "source": [
    "# Exercise Set 3: Crunching numbers (and wine)\n",
    "\n",
    "*February 14, 2020*\n",
    "\n",
    "In this Exercise Set 3 we will work with unsupervised machine learning, primarily dimensionality reduction and clustering, on the Wine and Digits datasets."
   ]
  },
  {
   "cell_type": "markdown",
   "metadata": {},
   "source": [
    "**Load data**"
   ]
  },
  {
   "cell_type": "code",
   "execution_count": 88,
   "metadata": {
    "ExecuteTime": {
     "end_time": "2020-02-25T12:18:56.210482Z",
     "start_time": "2020-02-25T12:18:55.219063Z"
    }
   },
   "outputs": [],
   "source": [
    "import pandas as pd\n",
    "from sklearn.datasets import load_wine\n",
    "from sklearn.datasets import load_digits\n",
    "\n",
    "# Get wine data\n",
    "data_wine = load_wine()\n",
    "X_wine = data_wine['data']\n",
    "y_wine = data_wine['target']\n",
    "\n",
    "# Get digits data\n",
    "data_digits = load_digits()\n",
    "X_digits = data_digits['data']\n",
    "y_digits = data_digits['target']"
   ]
  },
  {
   "cell_type": "markdown",
   "metadata": {},
   "source": [
    "<br>\n",
    "<br>\n",
    "\n",
    "## Dimensionality reduction"
   ]
  },
  {
   "cell_type": "markdown",
   "metadata": {},
   "source": [
    "> **Ex. 3.1.1**: Implement PCA from scratch, and apply it to the wine dataset.\n",
    "1. Visualize data along the first two principal components. Make sure to comment your\n",
    "code to explain where each bit fits in the overall PCA algorithm.\n",
    "2. Plot the explained variance ratio for all components. It can be computed by taking the\n",
    "of a component and dividing it by the sum of all eigenvalues.\n",
    ">\n",
    "> *Hint: You can follow the steps outlined in the slides, or in Raschka 2017. If you follow\n",
    "my example from the slides, note that there was an error at step 4, which is now fixed in an\n",
    "updated version on Github.*"
   ]
  },
  {
   "cell_type": "code",
   "execution_count": 94,
   "metadata": {},
   "outputs": [],
   "source": [
    "# PCa from scratch\n",
    "\n",
    "import numpy as np\n",
    "from sklearn.preprocessing import StandardScaler \n",
    "\n",
    "#follow ulf's slides (slide 16/40) -> not just cpy paste, but change it to useful python code\n",
    "# create class\n",
    "\n",
    "class kPCA:\n",
    "    def __init__(self, k = None):\n",
    "        self.ssc = StandardScaler()\n",
    "        self.k = k\n",
    "        self.W = None\n",
    "        self.explained_variance = None\n",
    "        self.pc_cov_mat = None\n",
    "        #self.__name__ = \"kPCA\"\n",
    "        # \n",
    "    \n",
    "    def fit(self, X): #This is the PCA part\n",
    "        if self.k is None:\n",
    "            self.k = X.shape[1] #defines as many pca as there are dimensions\n",
    "        \n",
    "        self.ssc.fit(X)\n",
    "        X_std = self.ssc.transform(X)\n",
    "        cov_mat = np.cov(X_std.T)\n",
    "        \n",
    "        eig_vals, eig_vecs = np.linalg.eig(cov_mat)\n",
    "        top_k_eigen_vecs = self._find_top_vecs(eig_vals, eig_vecs) # a function as an alternative to ulf's code \n",
    "        \n",
    "        self.W = np.hstack([\n",
    "            w.reshape(-1,1) for w in top_k_eigen_vecs\n",
    "        ]) #Storing the W instead of returning it - find the W that we can multipy to the standardized x's\n",
    "    \n",
    "        return self\n",
    "    \n",
    "    def _find_top_vecs(self, eigen_values, eigen_vectors): #part 4 in ulf's code\n",
    "        pairs = zip(abs(eigen_values), eigen_vectors.T)\n",
    "        sortedpairs = sorted(pairs, key = lambda pair: pair[0], reverse = True)\n",
    "        eigen_values , eigen_vectors = zip(*sortedpairs) # sorted generators an iterator -> the star packs out the two list individually\n",
    "        return eigen_vectors[:self.k]\n",
    "        \n",
    "        \n",
    "        \n",
    "    def transform(self, X):\n",
    "        X_std = self.ssc.transform(X)\n",
    "        pc = X_std @ self.W\n",
    "        \n",
    "        # Compute explained variance\n",
    "        var = [np.var(pci) for pci in pc.T]\n",
    "        total = sum(var)\n",
    "        sel.explained_variance = [i/total for i in var]\n",
    "        \n",
    "        return pc\n",
    "        \n",
    "        \n",
    "        \n",
    "    \n"
   ]
  },
  {
   "cell_type": "code",
   "execution_count": 95,
   "metadata": {},
   "outputs": [
    {
     "ename": "NameError",
     "evalue": "name 'sel' is not defined",
     "output_type": "error",
     "traceback": [
      "\u001b[1;31m---------------------------------------------------------------------------\u001b[0m",
      "\u001b[1;31mNameError\u001b[0m                                 Traceback (most recent call last)",
      "\u001b[1;32m<ipython-input-95-45d3639e5c39>\u001b[0m in \u001b[0;36m<module>\u001b[1;34m\u001b[0m\n\u001b[0;32m      1\u001b[0m \u001b[0mkpca\u001b[0m \u001b[1;33m=\u001b[0m \u001b[0mkPCA\u001b[0m\u001b[1;33m(\u001b[0m\u001b[1;33m)\u001b[0m\u001b[1;33m\u001b[0m\u001b[1;33m\u001b[0m\u001b[0m\n\u001b[0;32m      2\u001b[0m \u001b[0mkpca\u001b[0m\u001b[1;33m.\u001b[0m\u001b[0mfit\u001b[0m\u001b[1;33m(\u001b[0m\u001b[0mX_wine\u001b[0m\u001b[1;33m)\u001b[0m\u001b[1;33m\u001b[0m\u001b[1;33m\u001b[0m\u001b[0m\n\u001b[1;32m----> 3\u001b[1;33m \u001b[0mpc\u001b[0m \u001b[1;33m=\u001b[0m\u001b[0mkpca\u001b[0m\u001b[1;33m.\u001b[0m\u001b[0mtransform\u001b[0m\u001b[1;33m(\u001b[0m\u001b[0mX_wine\u001b[0m\u001b[1;33m)\u001b[0m\u001b[1;33m\u001b[0m\u001b[1;33m\u001b[0m\u001b[0m\n\u001b[0m",
      "\u001b[1;32m<ipython-input-94-9b9e6159ddb0>\u001b[0m in \u001b[0;36mtransform\u001b[1;34m(self, X)\u001b[0m\n\u001b[0;32m     49\u001b[0m         \u001b[0mvar\u001b[0m \u001b[1;33m=\u001b[0m \u001b[1;33m[\u001b[0m\u001b[0mnp\u001b[0m\u001b[1;33m.\u001b[0m\u001b[0mvar\u001b[0m\u001b[1;33m(\u001b[0m\u001b[0mpci\u001b[0m\u001b[1;33m)\u001b[0m \u001b[1;32mfor\u001b[0m \u001b[0mpci\u001b[0m \u001b[1;32min\u001b[0m \u001b[0mpc\u001b[0m\u001b[1;33m.\u001b[0m\u001b[0mT\u001b[0m\u001b[1;33m]\u001b[0m\u001b[1;33m\u001b[0m\u001b[1;33m\u001b[0m\u001b[0m\n\u001b[0;32m     50\u001b[0m         \u001b[0mtotal\u001b[0m \u001b[1;33m=\u001b[0m \u001b[0msum\u001b[0m\u001b[1;33m(\u001b[0m\u001b[0mvar\u001b[0m\u001b[1;33m)\u001b[0m\u001b[1;33m\u001b[0m\u001b[1;33m\u001b[0m\u001b[0m\n\u001b[1;32m---> 51\u001b[1;33m         \u001b[0msel\u001b[0m\u001b[1;33m.\u001b[0m\u001b[0mexplained_variance\u001b[0m \u001b[1;33m=\u001b[0m \u001b[1;33m[\u001b[0m\u001b[0mi\u001b[0m\u001b[1;33m/\u001b[0m\u001b[0mtotal\u001b[0m \u001b[1;32mfor\u001b[0m \u001b[0mi\u001b[0m \u001b[1;32min\u001b[0m \u001b[0mvar\u001b[0m\u001b[1;33m]\u001b[0m\u001b[1;33m\u001b[0m\u001b[1;33m\u001b[0m\u001b[0m\n\u001b[0m\u001b[0;32m     52\u001b[0m \u001b[1;33m\u001b[0m\u001b[0m\n\u001b[0;32m     53\u001b[0m         \u001b[1;32mreturn\u001b[0m \u001b[0mpc\u001b[0m\u001b[1;33m\u001b[0m\u001b[1;33m\u001b[0m\u001b[0m\n",
      "\u001b[1;31mNameError\u001b[0m: name 'sel' is not defined"
     ]
    }
   ],
   "source": [
    "kpca = kPCA()\n",
    "kpca.fit(X_wine)\n",
    "pc =kpca.transform(X_wine)"
   ]
  },
  {
   "cell_type": "markdown",
   "metadata": {},
   "source": [
    "> **Ex. 3.1.2**: Reproduce the figure from the slides that compares PCA, LDA, t-SNE and UMAP as applied to the digits dataset.\n",
    "1. Do it for the digits dataset (same as in slides)\n",
    "2. Do it also for the wine dataset. What problems do you observe if you don't standardize the wine dataset? Why is this not a problem with the digits data?\n",
    "3. Comment on the differences you observe as well as the applicability (and necessity thereof) of different methods for different data.\n",
    ">\n",
    "> *Hint: You can use [this class](https://github.com/ulfaslak/ulf_pytools/blob/7f4f1eb7e2d721851c8dacb20904478b19090f2a/ulf.py#L451) for making coloring easier. It lets you create a function that takes a category as input and returns an associated color. Read the docstring for usage example.*"
   ]
  },
  {
   "cell_type": "code",
   "execution_count": null,
   "metadata": {},
   "outputs": [],
   "source": [
    "from sklearn.decomposition import PCA\n",
    "form sklearn.discriminant_analysis import LinearDiscriminantAnalysis as LDA\n",
    "from sklearn.manifold import TSNE\n",
    "form umap import UMAP\n",
    "\n",
    "def plotDimesionRetucer(reducer, X, y ,ax):\n",
    "    ssc = Standardsalaer()\n",
    "    X_std = ssc.fit_transform(X)\n",
    "    \n",
    "    if reducer == LDA:\n",
    "        dmap = recuer().fi_transform(X_std, y)\n",
    "    else:\n",
    "        damp = reducer().fit_Transform(X_std)\n",
    "        \n",
    "    d1, d2 = dmap[:,0], dmap[:,1]\n",
    "    \n",
    "    ax.scatter(d1, d2, c=y, cmap = 'cividis')\n",
    "    ax.set_title(reducer.__name__)"
   ]
  },
  {
   "cell_type": "markdown",
   "metadata": {},
   "source": [
    "## Clustering"
   ]
  },
  {
   "cell_type": "markdown",
   "metadata": {},
   "source": [
    "> **Ex. 3.2.1**: Implement K-means. I have written parts of the core code and a template for the code below. You can use it if you get stuck. Preferably, write your code as a function that takes as input the data `X`, `K` and a maximum number of iterations, and outputs the kernels, the memberships and the number of iterations it took to converge. You must fit a K-Means solutions with 3 kernels on the wine dataset projected onto the first two principal components.\n",
    "1. Make a plot like the one below, that also clearly shows the position of the fitted kernels.\n",
    "2. Run your code 100 times and plot the distribution of iterations until convergence.\n",
    "3. Since this is an unsupervised solution, the labels you have obtained are probably different from the ones given by the `y` vector. But we still want to assess its accuracy. You could deal with this by relabeling the solution, but it's easier to use the *adjusted mutual information* as a performance metric. Use `sklearn.metrics.adjusted_mutual_info_score` to report the performance of one clustering solution."
   ]
  },
  {
   "cell_type": "code",
   "execution_count": 11,
   "metadata": {
    "ExecuteTime": {
     "end_time": "2020-02-25T11:48:04.780914Z",
     "start_time": "2020-02-25T11:48:04.598811Z"
    }
   },
   "outputs": [
    {
     "data": {
      "image/png": "[encoded data removed]",
      "text/plain": [
       "<Figure size 432x288 with 1 Axes>"
      ]
     },
     "metadata": {
      "needs_background": "light"
     },
     "output_type": "display_data"
    }
   ],
   "source": [
    "# fit the pca and get the two first components\n",
    "X_wine_std = StandardScaler().fit_transform(X_wine)\n",
    "X_wine_pca = PCA().fit_transform(X_wine_std)[:, :2]\n",
    "\n",
    "# plot it for sanity\n",
    "plt.scatter(X_wine_pca[:, 0], X_wine_pca[:, 1], c=y_wine)\n",
    "plt.show()"
   ]
  },
  {
   "cell_type": "code",
   "execution_count": null,
   "metadata": {},
   "outputs": [],
   "source": [
    "# Set (1) `K` and (2) `max_iter`\n",
    "\n",
    "# Initialize (1) data structure to keep track of kernel positions (init randomly) and\n",
    "# (2) data structure to keep track of members for of kernel (no members at start)\n",
    "\n",
    "# Start a for loop over a number of iterations\n",
    "for iter_ in range(max_iter):\n",
    "    \n",
    "    ## E-STEP: Assign members, by\n",
    "    ## ------\n",
    "    \n",
    "    # (1) copying last iteration's membership vector,\n",
    "    # (2) resetting the membership vector,\n",
    "    \n",
    "    # (3) looping over datapoints `x` to\n",
    "    for i, x in X_wine:\n",
    "        # (4) find the nearest kernel and\n",
    "        \n",
    "        # (5) add `x` as member of the corresponding kernel.\n",
    "    \n",
    "    \n",
    "    ## STOPPING-CRITERIA: Select whether to stop by\n",
    "    ## -----------------\n",
    "    \n",
    "    # (1) checking if the membership vector has changed since last iteration,\n",
    "\n",
    "    # (2) recording how many iterations it took to converge, and\n",
    "    \n",
    "    # (3) stop if it hasn't.\n",
    "        \n",
    "        \n",
    "    ## M-STEP: Move kernels, by\n",
    "    ## ------\n",
    "    \n",
    "    # (1) loop over kernels and\n",
    "    for j in range(K):\n",
    "        # (2) set their position to the mean of their members\n",
    "        \n",
    "    "
   ]
  },
  {
   "cell_type": "markdown",
   "metadata": {},
   "source": [
    "> **Ex. 3.2.2:** Fit a Gaussian Mixture Model, again to the PCA transformed wine data (same as previous exercise).\n",
    "1. Report the adjusted mutual information score.\n",
    "2. Make a plot similar to the one above, but where points are colored by their relative association.\n",
    ">\n",
    "> *Hint 2: Use [my `colormixer` function](https://github.com/ulfaslak/ulf_pytools/blob/7f4f1eb7e2d721851c8dacb20904478b19090f2a/ulf.py#L388)\n",
    "to color the points. Predict memberships using the `predict_proba` method, and let row vectors be input\n",
    "to the `weight` in the `colormixer` function. Example:*\n",
    ">\n",
    ">        colormixer(['#3E1F51', '#FEE824', '#1F908B'], weights=y_predicted[0])"
   ]
  },
  {
   "cell_type": "markdown",
   "metadata": {},
   "source": [
    "> **Ex. 3.2.3:** Using the same approach as above to fit a GMM, evaluate the fit for a varying number of kernels (use `range(1, 11)`).\n",
    "1. The \"elbow method\" compares cost function values for a varying number of kernels. It only decreases as `K`, decreases\n",
    "and it is up to the human to interpret when the curve breaks, indicating what the best value of `K` is. Having fitted\n",
    "a GMM object `gmm_model`, the cost function value (negative log likelihood) is obtained like `-sum(gmm_model.score_samples(X))`,\n",
    "where `X` is the data you fitted the model to. Make an elbow plot and comment on it.\n",
    "2. To make parameter choise easier, people often use AIC and BIC as corrections to the cost function values (they each add\n",
    "different penalties to the cost function for having a large number of parameters in your model), that allows\n",
    "one to take the minimum on the \"elbow\" curve (it's no longer an elbow plot, but you get the idea). In the same figure,\n",
    "plot AIC and BIC within the range `range(1, 11)`. Comment on the result. Which one gives a better picture of what the right number of kernels is?\n",
    "3. Repeat step 2, but with the full standardized wine dataset. Comment on the result. Does it still work?\n",
    "4. Try with the digit data for `K` in `range(1, 21)`. Any comments?"
   ]
  },
  {
   "cell_type": "markdown",
   "metadata": {},
   "source": [
    "> **Ex. 3.2.4:** If your solution looks anything like mine, you would conclude that parametric clustering has\n",
    "problems in high-dimensional data with many clusters. So let's try a non-parametric approach, using DBSCAN.\n",
    "* Fit DBSCAN (imported from sklearn) on the digit data in its original dimensions (`X_digits`),\n",
    "* then visualize the result by plotting the t-SNE transformed datapoints, colored by their recovered cluster label.\n",
    "* Try different values of `eps` with DBSCAN until you feel you have a satisfying result.\n",
    "* Report the adjusted mutual information between the obtained labeling and the true labeling.\n",
    "* Comment on your result."
   ]
  },
  {
   "cell_type": "markdown",
   "metadata": {},
   "source": [
    "> **Ex. 3.2.5:** Compare DBSCAN with agglomerative clustering. In a `for` loop over \"distance threshold\"\n",
    "(corresponding to `eps` in DBSCAN):\n",
    "* Obtain (1) DBSCAN, and agglomerative clustering solutions. For agglomerative clustering, obtain solutions for all\n",
    "configurations of `linkage` (that it 'ward', 'average', 'complete', 'single').\n",
    "* In total this gives you five different labelings of the datapoints in the `X_digits` dataset. For each, compute \n",
    "the adjusted mutual information (AMI) with the true labeling. Append these values to seperate arrays.\n",
    "* In one figure, plot the AMI curve of each of the five methods. Label them properly and display a legend so one can compare\n",
    "* Comment on the result. Which method performs the best on this dataset? How sensitive is each method to distance threshold?\n",
    ">\n",
    "> *Hint: A good range of distance thresholds is `range(6, 100)`.*"
   ]
  },
  {
   "cell_type": "code",
   "execution_count": null,
   "metadata": {},
   "outputs": [],
   "source": []
  }
 ],
 "metadata": {
  "kernelspec": {
   "display_name": "Python 3",
   "language": "python",
   "name": "python3"
  },
  "language_info": {
   "codemirror_mode": {
    "name": "ipython",
    "version": 3
   },
   "file_extension": ".py",
   "mimetype": "text/x-python",
   "name": "python",
   "nbconvert_exporter": "python",
   "pygments_lexer": "ipython3",
   "version": "3.7.3"
  },
  "toc": {
   "base_numbering": 1,
   "nav_menu": {},
   "number_sections": true,
   "sideBar": true,
   "skip_h1_title": false,
   "title_cell": "Table of Contents",
   "title_sidebar": "Contents",
   "toc_cell": false,
   "toc_position": {},
   "toc_section_display": true,
   "toc_window_display": false
  },
  "varInspector": {
   "cols": {
    "lenName": 16,
    "lenType": 16,
    "lenVar": 40
   },
   "kernels_config": {
    "python": {
     "delete_cmd_postfix": "",
     "delete_cmd_prefix": "del ",
     "library": "var_list.py",
     "varRefreshCmd": "print(var_dic_list())"
    },
    "r": {
     "delete_cmd_postfix": ") ",
     "delete_cmd_prefix": "rm(",
     "library": "var_list.r",
     "varRefreshCmd": "cat(var_dic_list()) "
    }
   },
   "types_to_exclude": [
    "module",
    "function",
    "builtin_function_or_method",
    "instance",
    "_Feature"
   ],
   "window_display": false
  }
 },
 "nbformat": 4,
 "nbformat_minor": 2
}
