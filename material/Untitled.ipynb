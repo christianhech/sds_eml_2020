{
 "cells": [
  {
   "cell_type": "markdown",
   "metadata": {},
   "source": [
    "# Notes to Unsupervised learning\n"
   ]
  },
  {
   "cell_type": "code",
   "execution_count": null,
   "metadata": {},
   "outputs": [],
   "source": [
    "The overall subjects are:\n",
    "\n",
    "- Dimensionality reduction\n",
    "- Clustering\n"
   ]
  },
  {
   "cell_type": "markdown",
   "metadata": {},
   "source": [
    "## Dimensionality reduction\n",
    "\n",
    "- Motivation\n",
    "Feature spaces -> wide array of variables -> difficult to explore data -> often high dimensional data have correlations -> utilitze this (latent directions that explain the data vary well). \n",
    "\n",
    "Correlation allows us t reduce dimensionality\n",
    "\n",
    "-> express the data in terms of fewer features WITHOUT loosing too much variance / information\n",
    "\n",
    "-> Can actually improve performance by reducing the \"curse of dimensinality\" problems\n",
    "\n",
    "Cons: Features are harder to interpret (for instance age and height -> age_height ( reduce to one variable) - how to we interpret this & we do lose some variance / information"
   ]
  },
  {
   "cell_type": "markdown",
   "metadata": {},
   "source": [
    "# Mehtods\n",
    "\n",
    "- PCA (linear, unsupervised)\n",
    "- Linear Discriminant  Analysis (linear, supervised) -> makes prediction that best seperates the data\n",
    "- Quick world on t-SNE and UMAP (non-linear, unsupervised)\n",
    "\n",
    "PCA:\n",
    "- find directions of max variance androtate the data so PC1 becomes new x-axis and PC2 becomes new y-axis\n",
    "- A way to rotate in a way with as much variance as possible (x1-axis the most variance), x-2 axis is the 2nd most variance\n",
    "- The last PCs will have relatively little data variance, so we can just remove these -> reduced dimensionality"
   ]
  },
  {
   "cell_type": "code",
   "execution_count": 1,
   "metadata": {},
   "outputs": [
    {
     "ename": "NameError",
     "evalue": "name 'X' is not defined",
     "output_type": "error",
     "traceback": [
      "\u001b[1;31m---------------------------------------------------------------------------\u001b[0m",
      "\u001b[1;31mNameError\u001b[0m                                 Traceback (most recent call last)",
      "\u001b[1;32m<ipython-input-1-19dea70d9b65>\u001b[0m in \u001b[0;36m<module>\u001b[1;34m\u001b[0m\n\u001b[0;32m      3\u001b[0m \u001b[1;32mfrom\u001b[0m \u001b[0msklearn\u001b[0m\u001b[1;33m.\u001b[0m\u001b[0mpreprocessing\u001b[0m \u001b[1;32mimport\u001b[0m \u001b[0mStandardScaler\u001b[0m\u001b[1;33m\u001b[0m\u001b[1;33m\u001b[0m\u001b[0m\n\u001b[0;32m      4\u001b[0m \u001b[0msc\u001b[0m \u001b[1;33m=\u001b[0m \u001b[0mStandardScaler\u001b[0m\u001b[1;33m(\u001b[0m\u001b[1;33m)\u001b[0m\u001b[1;33m\u001b[0m\u001b[1;33m\u001b[0m\u001b[0m\n\u001b[1;32m----> 5\u001b[1;33m \u001b[0mX_std\u001b[0m \u001b[1;33m=\u001b[0m \u001b[0msc\u001b[0m\u001b[1;33m.\u001b[0m\u001b[0mfit_transform\u001b[0m\u001b[1;33m(\u001b[0m\u001b[0mX\u001b[0m\u001b[1;33m)\u001b[0m\u001b[1;33m\u001b[0m\u001b[1;33m\u001b[0m\u001b[0m\n\u001b[0m\u001b[0;32m      6\u001b[0m \u001b[1;33m\u001b[0m\u001b[0m\n\u001b[0;32m      7\u001b[0m \u001b[1;31m# Important to compute the covariance matrix (as this is based on the correlation)\u001b[0m\u001b[1;33m\u001b[0m\u001b[1;33m\u001b[0m\u001b[1;33m\u001b[0m\u001b[0m\n",
      "\u001b[1;31mNameError\u001b[0m: name 'X' is not defined"
     ]
    }
   ],
   "source": [
    "# code - important to rescale the data (mean 1 and variace 1)\n",
    "\n",
    "from sklearn.preprocessing import StandardScaler\n",
    "sc = StandardScaler()\n",
    "X_std = sc.fit_transform(X)\n",
    "\n",
    "# Important to compute the covariance matrix (as this is based on the correlation)\n",
    "cov_mat = np.cov(X_std.T)\n",
    "\n",
    "# Decompise the covar to by descresing order to rank the corresponding eigenvectors (basis for the data -> when multiplying the direction doesnt change)\n",
    "# Covar * eigenvector = scaling constant (eigenvalue) * eigenvector\n",
    "# se resten i slides"
   ]
  },
  {
   "cell_type": "markdown",
   "metadata": {},
   "source": [
    "# LDA\n",
    "\n",
    "- Almost the same as PCA -> bu instead of specifying the PC2 as the orthogonal direction (eller \"plan\") on the vector, then choose the derection with the 2nd most variance and so on -> better at seperating the data (if we for instance have 3 different types of data (features ?) - always do this at first to get an overview of the data.\n",
    "\n",
    "# t-SNE\n",
    "- When we have high dimensions, we can apply this non-linear algorithm, which does wery well.\n",
    "- UMAP do the same thing\n",
    "\n",
    "\n",
    "- One thing that you lose is the: the placement of the points is algoritmic choosing -> we cannot see where the points (mapping) belongs in the original dataset (as we can in the linear algorithms as they are in fact linear)"
   ]
  }
 ],
 "metadata": {
  "kernelspec": {
   "display_name": "Python 3",
   "language": "python",
   "name": "python3"
  },
  "language_info": {
   "codemirror_mode": {
    "name": "ipython",
    "version": 3
   },
   "file_extension": ".py",
   "mimetype": "text/x-python",
   "name": "python",
   "nbconvert_exporter": "python",
   "pygments_lexer": "ipython3",
   "version": "3.7.3"
  }
 },
 "nbformat": 4,
 "nbformat_minor": 2
}
